{
  "nbformat": 4,
  "nbformat_minor": 0,
  "metadata": {
    "colab": {
      "name": "cancerImplementation.ipynb",
      "provenance": [],
      "collapsed_sections": []
    },
    "kernelspec": {
      "name": "python3",
      "display_name": "Python 3"
    }
  },
  "cells": [
    {
      "cell_type": "code",
      "metadata": {
        "id": "lwkvINE7851m"
      },
      "source": [
        "import keras\n",
        "from keras.models import Model\n",
        "import tensorflow as tf\n",
        "import numpy as np\n",
        "import matplotlib.pyplot as plt"
      ],
      "execution_count": 1,
      "outputs": []
    },
    {
      "cell_type": "code",
      "metadata": {
        "id": "8MP_r1JpdgXn"
      },
      "source": [
        "def getInceptionV3():\n",
        "    # get the inception V3 model\n",
        "    modelInceptionV3 = keras.applications.InceptionV3(weights='imagenet')\n",
        "\n",
        "    # remove the last layer\n",
        "    modelInceptionV3OutLayer = modelInceptionV3.layers[len(modelInceptionV3.layers)-2].name\n",
        "    modelInceptionV3NN =  Model(inputs=modelInceptionV3.input, outputs=modelInceptionV3.get_layer(modelInceptionV3OutLayer).output) \n",
        "    return modelInceptionV3NN"
      ],
      "execution_count": 2,
      "outputs": []
    },
    {
      "cell_type": "code",
      "metadata": {
        "id": "B8GcMMCBdgbv"
      },
      "source": [
        "def inference_over_image(path_to_image, modelInceptionV3NN, toPrint=False):\n",
        "  img_raw = tf.io.read_file(path_to_image)\n",
        "  img = tf.io.decode_image(img_raw)\n",
        "  img = tf.image.convert_image_dtype(img, tf.float32)\n",
        "  img = tf.image.resize(img, [299,299])\n",
        "  img_to_show = img\n",
        "  img = np.expand_dims(img, 0)\n",
        "  if toPrint == True:\n",
        "    _ = plt.imshow(img_to_show)\n",
        "  return modelInceptionV3NN.predict(img)"
      ],
      "execution_count": 3,
      "outputs": []
    },
    {
      "cell_type": "code",
      "metadata": {
        "id": "486n4xrr9oL8"
      },
      "source": [
        "cosine_loss = tf.keras.losses.CosineSimilarity(axis=1)\n",
        "modelInceptionV3NN = getInceptionV3()"
      ],
      "execution_count": 4,
      "outputs": []
    },
    {
      "cell_type": "code",
      "metadata": {
        "id": "7W-oXICe9ppQ"
      },
      "source": [
        "malign_benign = list()"
      ],
      "execution_count": 5,
      "outputs": []
    },
    {
      "cell_type": "code",
      "metadata": {
        "id": "vZuQFvJg9vSJ",
        "outputId": "2d4f2a3c-857b-4943-a10a-1dc4b552ef59",
        "colab": {
          "base_uri": "https://localhost:8080/"
        }
      },
      "source": [
        "contor = 1000 # use just 100 images for dataset\n",
        "for i in range(1,1501):\n",
        "  try:\n",
        "    malign_benign.append(inference_over_image('/content/drive/My Drive/dl_replace_nn_output_cosine_sim/cancer/train_r/malignant/'+str(i)+'.jpg', modelInceptionV3NN)[0])\n",
        "    contor = contor - 1\n",
        "    if contor == 0:\n",
        "      break\n",
        "  except:\n",
        "    continue\n",
        "print(\"done with malign\")"
      ],
      "execution_count": 6,
      "outputs": [
        {
          "output_type": "stream",
          "text": [
            "done with malign\n"
          ],
          "name": "stdout"
        }
      ]
    },
    {
      "cell_type": "code",
      "metadata": {
        "id": "H96AZfbDzKb6",
        "outputId": "a0b74218-a618-4d60-a7d8-6f7620e9a0d5",
        "colab": {
          "base_uri": "https://localhost:8080/"
        }
      },
      "source": [
        "contor = 1000 # use just 100 images for dataset\n",
        "for i in range(1,1801):\n",
        "  try:\n",
        "    malign_benign.append(inference_over_image('/content/drive/My Drive/dl_replace_nn_output_cosine_sim/cancer/train_r/benign/'+str(i)+'.jpg', modelInceptionV3NN)[0])\n",
        "    contor = contor - 1\n",
        "    if contor == 0:\n",
        "      break\n",
        "  except:\n",
        "    continue\n",
        "print(\"done with benign\")"
      ],
      "execution_count": 7,
      "outputs": [
        {
          "output_type": "stream",
          "text": [
            "done with benign\n"
          ],
          "name": "stdout"
        }
      ]
    },
    {
      "cell_type": "code",
      "metadata": {
        "id": "pya9H0iCEkxB"
      },
      "source": [
        "np.savetxt(\"/content/drive/My Drive/dl_replace_nn_output_cosine_sim/cancer/skinCancerdb.csv\",np.array(malign_benign),delimiter=\",\") "
      ],
      "execution_count": 8,
      "outputs": []
    },
    {
      "cell_type": "code",
      "metadata": {
        "id": "r-I6hKLKzcMF",
        "outputId": "09a01b2c-2948-40bb-f944-d889cc7763d0",
        "colab": {
          "base_uri": "https://localhost:8080/"
        }
      },
      "source": [
        "contor = 1000 # use just 100 images for dataset\n",
        "nr = 0\n",
        "for i in range(1,1501):\n",
        "  try:\n",
        "    path_to_image = '/content/drive/My Drive/dl_replace_nn_output_cosine_sim/cancer/train_r/malignant/'+str(i)+'.jpg'\n",
        "    tf.io.read_file(path_to_image)\n",
        "    nr = nr + 1\n",
        "    contor = contor - 1\n",
        "    if contor == 0:\n",
        "      break\n",
        "  except:\n",
        "    continue\n",
        "print(\"maligns : \" , nr)"
      ],
      "execution_count": 10,
      "outputs": [
        {
          "output_type": "stream",
          "text": [
            "maligns :  300\n"
          ],
          "name": "stdout"
        }
      ]
    },
    {
      "cell_type": "code",
      "metadata": {
        "id": "f2x1jjqMRyJe",
        "outputId": "790519d8-5765-49a2-f5d5-202a943b0c6d",
        "colab": {
          "base_uri": "https://localhost:8080/"
        }
      },
      "source": [
        "contor = 1000 # use just 100 images for dataset\n",
        "nr = 0\n",
        "for i in range(1,1501):\n",
        "  try:\n",
        "    path_to_image = '/content/drive/My Drive/dl_replace_nn_output_cosine_sim/cancer/train_r/benign/'+str(i)+'.jpg'\n",
        "    tf.io.read_file(path_to_image)\n",
        "    nr = nr + 1\n",
        "    contor = contor - 1\n",
        "    if contor == 0:\n",
        "      break\n",
        "  except:\n",
        "    continue\n",
        "print(\"benigns : \" , nr)"
      ],
      "execution_count": 11,
      "outputs": [
        {
          "output_type": "stream",
          "text": [
            "benigns :  308\n"
          ],
          "name": "stdout"
        }
      ]
    },
    {
      "cell_type": "code",
      "metadata": {
        "id": "vUA-jwHlR58s"
      },
      "source": [
        ""
      ],
      "execution_count": null,
      "outputs": []
    }
  ]
}