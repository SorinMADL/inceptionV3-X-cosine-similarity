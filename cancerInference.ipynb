{
  "nbformat": 4,
  "nbformat_minor": 0,
  "metadata": {
    "colab": {
      "name": "cancerInference.ipynb",
      "provenance": [],
      "collapsed_sections": []
    },
    "kernelspec": {
      "name": "python3",
      "display_name": "Python 3"
    }
  },
  "cells": [
    {
      "cell_type": "code",
      "metadata": {
        "id": "nnBfh8k5GD70"
      },
      "source": [
        "import keras\n",
        "from keras.models import Model\n",
        "import tensorflow as tf\n",
        "import numpy as np\n",
        "import matplotlib.pyplot as plt"
      ],
      "execution_count": 1,
      "outputs": []
    },
    {
      "cell_type": "code",
      "metadata": {
        "id": "3sIHtZ7xcf0u"
      },
      "source": [
        "def getInceptionV3():\n",
        "    # get the inception V3 model\n",
        "    modelInceptionV3 = keras.applications.InceptionV3(weights='imagenet')\n",
        "\n",
        "    # remove the last layer\n",
        "    modelInceptionV3OutLayer = modelInceptionV3.layers[len(modelInceptionV3.layers)-2].name\n",
        "    modelInceptionV3NN =  Model(inputs=modelInceptionV3.input, outputs=modelInceptionV3.get_layer(modelInceptionV3OutLayer).output) \n",
        "    return modelInceptionV3NN"
      ],
      "execution_count": 2,
      "outputs": []
    },
    {
      "cell_type": "code",
      "metadata": {
        "id": "1aQcX0QbclKk"
      },
      "source": [
        "cosine_loss = tf.keras.losses.CosineSimilarity(axis=1)\n",
        "modelInceptionV3NN = getInceptionV3()"
      ],
      "execution_count": 3,
      "outputs": []
    },
    {
      "cell_type": "code",
      "metadata": {
        "id": "xM8gfzdNGnvz"
      },
      "source": [
        "classes = np.loadtxt(\"/content/drive/My Drive/dl_replace_nn_output_cosine_sim/cancer/skinCancerdb.csv\", delimiter=',') # skin cancer dataset"
      ],
      "execution_count": 4,
      "outputs": []
    },
    {
      "cell_type": "code",
      "metadata": {
        "id": "MRZiHoP7Gtn7"
      },
      "source": [
        "def get_class(value, maxval):\n",
        "  if maxval < 0.8: # a high value cuz we better unk then fake m\n",
        "    return 'unk - acc:' + str(maxval)\n",
        "  if value in range(300):\n",
        "    return 'M - acc:' + str(value) + str(maxval)\n",
        "  if value in range(300, 608):\n",
        "    return 'B - acc:' + str(value) + str(maxval)"
      ],
      "execution_count": 5,
      "outputs": []
    },
    {
      "cell_type": "code",
      "metadata": {
        "id": "H4apIKKLHBl_"
      },
      "source": [
        "def inferenceX(path_img):\n",
        "  global classes\n",
        "  global modelInceptionV3NN\n",
        "  img_raw = tf.io.read_file(path_img)\n",
        "  img = tf.io.decode_image(img_raw)\n",
        "  img = tf.image.convert_image_dtype(img, tf.float32)\n",
        "  img = tf.image.resize(img, [299,299])\n",
        "  img = np.expand_dims(img, 0)\n",
        "  features = modelInceptionV3NN.predict(img)\n",
        "\n",
        "  score = []\n",
        "  for sample in classes:\n",
        "    score.append(-1*cosine_loss(features, np.array([sample], dtype=np.float32)).numpy())\n",
        "  max_s = max(score)\n",
        "  return get_class(score.index(max_s), max_s), max_s"
      ],
      "execution_count": 6,
      "outputs": []
    },
    {
      "cell_type": "code",
      "metadata": {
        "id": "qnX7OQsvHPqa"
      },
      "source": [
        "malign_benign = list() # [real class, predict]"
      ],
      "execution_count": 7,
      "outputs": []
    },
    {
      "cell_type": "code",
      "metadata": {
        "id": "QyOzhR6nHtwc"
      },
      "source": [
        "contor = 300\n",
        "for i in range(1,1501):\n",
        "  try:\n",
        "    malign_benign.append(['M',inferenceX('/content/drive/My Drive/dl_replace_nn_output_cosine_sim/cancer/test_s/malignant/'+str(i)+'.jpg')])\n",
        "    contor = contor - 1\n",
        "    if contor == 0:\n",
        "      break\n",
        "  except:\n",
        "    continue"
      ],
      "execution_count": 8,
      "outputs": []
    },
    {
      "cell_type": "code",
      "metadata": {
        "id": "ELvd4RKPzrCX",
        "outputId": "ef168728-4a4f-4aec-8030-0a8d2473966f",
        "colab": {
          "base_uri": "https://localhost:8080/"
        }
      },
      "source": [
        "len(malign_benign)"
      ],
      "execution_count": 9,
      "outputs": [
        {
          "output_type": "execute_result",
          "data": {
            "text/plain": [
              "300"
            ]
          },
          "metadata": {
            "tags": []
          },
          "execution_count": 9
        }
      ]
    },
    {
      "cell_type": "code",
      "metadata": {
        "id": "HPCbJqBKKz5-"
      },
      "source": [
        "contor = 300\n",
        "for i in range(1,1801):\n",
        "  try:\n",
        "    malign_benign.append(['B',inferenceX('/content/drive/My Drive/dl_replace_nn_output_cosine_sim/cancer/test_s/benign/'+str(i)+'.jpg')])\n",
        "    contor = contor - 1\n",
        "    if contor == 0:\n",
        "      break\n",
        "  except:\n",
        "    continue"
      ],
      "execution_count": 10,
      "outputs": []
    },
    {
      "cell_type": "code",
      "metadata": {
        "id": "nQbxh01szrX9",
        "outputId": "bf53293d-110a-489f-b708-cf6ced55cd38",
        "colab": {
          "base_uri": "https://localhost:8080/"
        }
      },
      "source": [
        "len(malign_benign)"
      ],
      "execution_count": 11,
      "outputs": [
        {
          "output_type": "execute_result",
          "data": {
            "text/plain": [
              "600"
            ]
          },
          "metadata": {
            "tags": []
          },
          "execution_count": 11
        }
      ]
    },
    {
      "cell_type": "code",
      "metadata": {
        "id": "BfK2Rad_KtV7"
      },
      "source": [
        "fake_benign = 0\n",
        "continuee = 0\n",
        "for i in range(0, 300):\n",
        "  try:\n",
        "    if malign_benign[i][0] != malign_benign[i][1][0][0]:\n",
        "      if malign_benign[i][1][0][0] == 'u':\n",
        "        continuee = continuee + 1\n",
        "        continue\n",
        "      fake_benign += 1\n",
        "  except:\n",
        "    continuee = continuee + 1\n",
        "    continue"
      ],
      "execution_count": 12,
      "outputs": []
    },
    {
      "cell_type": "code",
      "metadata": {
        "id": "SoSzOfEmRAKB",
        "outputId": "fc3ec7cc-f4dc-4cb8-cbb3-12ef8cc154b0",
        "colab": {
          "base_uri": "https://localhost:8080/"
        }
      },
      "source": [
        "print(fake_benign)\n",
        "print(continuee)"
      ],
      "execution_count": 13,
      "outputs": [
        {
          "output_type": "stream",
          "text": [
            "41\n",
            "100\n"
          ],
          "name": "stdout"
        }
      ]
    },
    {
      "cell_type": "code",
      "metadata": {
        "id": "lF4pl1M_Ru3v"
      },
      "source": [
        "fake_malign = 0\n",
        "continuee = 0\n",
        "for i in range(300, 608):\n",
        "  try:\n",
        "    if malign_benign[i][0] != malign_benign[i][1][0][0]:\n",
        "      if malign_benign[i][1][0][0] == 'u':\n",
        "        continuee = continuee + 1\n",
        "        continue\n",
        "      fake_malign += 1\n",
        "  except:\n",
        "    continuee = continuee + 1\n",
        "    continue"
      ],
      "execution_count": 14,
      "outputs": []
    },
    {
      "cell_type": "code",
      "metadata": {
        "id": "cssNl5KhSUdl",
        "outputId": "24dcc2e4-8bdd-4e57-8cc4-0f989c1581c7",
        "colab": {
          "base_uri": "https://localhost:8080/"
        }
      },
      "source": [
        "print(fake_malign)\n",
        "print(continuee)"
      ],
      "execution_count": 15,
      "outputs": [
        {
          "output_type": "stream",
          "text": [
            "47\n",
            "80\n"
          ],
          "name": "stdout"
        }
      ]
    },
    {
      "cell_type": "code",
      "metadata": {
        "id": "Y1_ZYrvPWuhV"
      },
      "source": [
        "number_of_test = 600 - 100 - 80\n",
        "number_of_worng = 41 + 47"
      ],
      "execution_count": 19,
      "outputs": []
    },
    {
      "cell_type": "code",
      "metadata": {
        "id": "C4EP4mJzWu7_"
      },
      "source": [
        "ACC = 1 - number_of_worng / number_of_test"
      ],
      "execution_count": 20,
      "outputs": []
    },
    {
      "cell_type": "code",
      "metadata": {
        "id": "hAodJDelbuqP",
        "outputId": "81934d17-0fd7-476f-a3da-e147c1b9ed08",
        "colab": {
          "base_uri": "https://localhost:8080/"
        }
      },
      "source": [
        "ACC"
      ],
      "execution_count": 21,
      "outputs": [
        {
          "output_type": "execute_result",
          "data": {
            "text/plain": [
              "0.7904761904761904"
            ]
          },
          "metadata": {
            "tags": []
          },
          "execution_count": 21
        }
      ]
    },
    {
      "cell_type": "code",
      "metadata": {
        "id": "56JLi9ZjXiyi"
      },
      "source": [
        ""
      ],
      "execution_count": 18,
      "outputs": []
    }
  ]
}